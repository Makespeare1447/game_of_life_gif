{
 "cells": [
  {
   "cell_type": "code",
   "execution_count": 1,
   "metadata": {},
   "outputs": [],
   "source": [
    "import numpy as np\n",
    "import matplotlib.pyplot as plt\n",
    "#%matplotlib inline\n",
    "import time\n",
    "from IPython.display import clear_output, Image, display\n",
    "import imageio\n",
    "import scipy.misc\n",
    "#import skimage.transform\n",
    "import progressbar\n",
    "import torch"
   ]
  },
  {
   "cell_type": "code",
   "execution_count": 4,
   "metadata": {},
   "outputs": [],
   "source": [
    "def generate_map(sidelength):\n",
    "    map = np.random.randint(2, size=(sidelength, sidelength))\n",
    "    return map\n",
    "    \n",
    "def plot_map(map,fps):\n",
    "    \n",
    "    fig = plt.figure(figsize=(12,12))\n",
    "    plt.imshow(map, cmap='binary')\n",
    "    plt.show()\n",
    "    plt.pause(1/fps)\n",
    "    clear_output(wait=True)\n",
    "    \n",
    "    \n",
    "def count_nn(map, position):\n",
    "    nn = 0\n",
    "    x = position[0]\n",
    "    y = position [1]\n",
    "    if(map[x+1,y+1] == 1):\n",
    "        nn = nn+1\n",
    "    if(map[x-1,y+1] == 1):\n",
    "        nn = nn+1\n",
    "    if(map[x+1,y-1] == 1):\n",
    "        nn = nn+1\n",
    "    if(map[x-1,y-1] == 1):\n",
    "        nn = nn+1\n",
    "    if(map[x,y+1] == 1):\n",
    "        nn = nn+1\n",
    "    if(map[x,y-1] == 1):\n",
    "        nn = nn+1\n",
    "    if(map[x+1,y] == 1):\n",
    "        nn = nn+1\n",
    "    if(map[x-1,y] == 1):\n",
    "        nn = nn+1\n",
    "    else:\n",
    "        pass\n",
    "    return nn\n",
    "        \n",
    "\n",
    "def forward(map):\n",
    "    rows = np.shape(map)[0]\n",
    "    cols = np.shape(map)[1]\n",
    "    newmap = np.zeros((rows,cols))\n",
    "   \n",
    "    for x in range(1,cols-1):\n",
    "        for y in range(1,rows-1):\n",
    "            nn = count_nn(map,(x,y))\n",
    "            if(map[x,y]==0 and nn==3):\n",
    "                newmap[x,y]=1\n",
    "            if(map[x,y]==1 and nn<2):\n",
    "                newmap[x,y]=0\n",
    "            if(map[x,y]==1 and (nn==2 or nn==3)):\n",
    "                newmap[x,y]=1\n",
    "            if(map[x,y]==1 and nn>3):\n",
    "                newmap[x,y]=0\n",
    "                \n",
    "    return newmap\n",
    "\n",
    "def simplegameoflife(sidelength, iterations):\n",
    "    map=generate_map(sidelength)\n",
    "    for i in range(iterations):\n",
    "        plot_map(map,100)\n",
    "        map=forward(map)\n",
    "        \n",
    "def scale_array(x, new_size):\n",
    "    min_el = np.min(x)\n",
    "    max_el = np.max(x)\n",
    "    y = scipy.misc.imresize(x, new_size, mode='L', interp='nearest')\n",
    "    y = y / 255 * (max_el - min_el) + min_el\n",
    "    return y\n",
    "\n",
    "\n",
    "def gameoflife_2_gif(sidelength, iterations):\n",
    "    images = []\n",
    "    map = generate_map(sidelength)\n",
    "    bar = progressbar.ProgressBar(max_value=iterations)\n",
    "    for i in range(iterations):\n",
    "        scaledmap = scale_array(map,(1000,1000))\n",
    "        images.append(scaledmap)\n",
    "        map = forward(map)\n",
    "        bar.update(i)\n",
    "    imageio.mimsave('population.gif', images)"
   ]
  },
  {
   "cell_type": "code",
   "execution_count": 5,
   "metadata": {},
   "outputs": [
    {
     "name": "stderr",
     "output_type": "stream",
     "text": [
      "C:\\Users\\Marco\\Anaconda3\\lib\\site-packages\\ipykernel_launcher.py:68: DeprecationWarning: `imresize` is deprecated!\n",
      "`imresize` is deprecated in SciPy 1.0.0, and will be removed in 1.2.0.\n",
      "Use ``skimage.transform.resize`` instead.\n",
      "N/A% (0 of 100) |                        | Elapsed Time: 0:00:00 ETA:  --:--:--"
     ]
    },
    {
     "ename": "TypeError",
     "evalue": "min() missing 1 required positional arguments: \"dim\"",
     "output_type": "error",
     "traceback": [
      "\u001b[1;31m---------------------------------------------------------------------------\u001b[0m",
      "\u001b[1;31mTypeError\u001b[0m                                 Traceback (most recent call last)",
      "\u001b[1;32m<ipython-input-5-3202f3b25379>\u001b[0m in \u001b[0;36m<module>\u001b[1;34m()\u001b[0m\n\u001b[1;32m----> 1\u001b[1;33m \u001b[0mgameoflife_2_gif\u001b[0m\u001b[1;33m(\u001b[0m\u001b[1;36m100\u001b[0m\u001b[1;33m,\u001b[0m\u001b[1;36m100\u001b[0m\u001b[1;33m)\u001b[0m\u001b[1;33m\u001b[0m\u001b[0m\n\u001b[0m",
      "\u001b[1;32m<ipython-input-4-6dff4beb2884>\u001b[0m in \u001b[0;36mgameoflife_2_gif\u001b[1;34m(sidelength, iterations)\u001b[0m\n\u001b[0;32m     76\u001b[0m     \u001b[0mbar\u001b[0m \u001b[1;33m=\u001b[0m \u001b[0mprogressbar\u001b[0m\u001b[1;33m.\u001b[0m\u001b[0mProgressBar\u001b[0m\u001b[1;33m(\u001b[0m\u001b[0mmax_value\u001b[0m\u001b[1;33m=\u001b[0m\u001b[0miterations\u001b[0m\u001b[1;33m)\u001b[0m\u001b[1;33m\u001b[0m\u001b[0m\n\u001b[0;32m     77\u001b[0m     \u001b[1;32mfor\u001b[0m \u001b[0mi\u001b[0m \u001b[1;32min\u001b[0m \u001b[0mrange\u001b[0m\u001b[1;33m(\u001b[0m\u001b[0miterations\u001b[0m\u001b[1;33m)\u001b[0m\u001b[1;33m:\u001b[0m\u001b[1;33m\u001b[0m\u001b[0m\n\u001b[1;32m---> 78\u001b[1;33m         \u001b[0mscaledmap\u001b[0m \u001b[1;33m=\u001b[0m \u001b[0mscale_array\u001b[0m\u001b[1;33m(\u001b[0m\u001b[0mmap\u001b[0m\u001b[1;33m,\u001b[0m\u001b[1;33m(\u001b[0m\u001b[1;36m1000\u001b[0m\u001b[1;33m,\u001b[0m\u001b[1;36m1000\u001b[0m\u001b[1;33m)\u001b[0m\u001b[1;33m)\u001b[0m\u001b[1;33m\u001b[0m\u001b[0m\n\u001b[0m\u001b[0;32m     79\u001b[0m         \u001b[0mimages\u001b[0m\u001b[1;33m.\u001b[0m\u001b[0mappend\u001b[0m\u001b[1;33m(\u001b[0m\u001b[0mscaledmap\u001b[0m\u001b[1;33m)\u001b[0m\u001b[1;33m\u001b[0m\u001b[0m\n\u001b[0;32m     80\u001b[0m         \u001b[0mmap\u001b[0m \u001b[1;33m=\u001b[0m \u001b[0mforward\u001b[0m\u001b[1;33m(\u001b[0m\u001b[0mmap\u001b[0m\u001b[1;33m)\u001b[0m\u001b[1;33m\u001b[0m\u001b[0m\n",
      "\u001b[1;32m<ipython-input-4-6dff4beb2884>\u001b[0m in \u001b[0;36mscale_array\u001b[1;34m(x, new_size)\u001b[0m\n\u001b[0;32m     64\u001b[0m \u001b[1;33m\u001b[0m\u001b[0m\n\u001b[0;32m     65\u001b[0m \u001b[1;32mdef\u001b[0m \u001b[0mscale_array\u001b[0m\u001b[1;33m(\u001b[0m\u001b[0mx\u001b[0m\u001b[1;33m,\u001b[0m \u001b[0mnew_size\u001b[0m\u001b[1;33m)\u001b[0m\u001b[1;33m:\u001b[0m\u001b[1;33m\u001b[0m\u001b[0m\n\u001b[1;32m---> 66\u001b[1;33m     \u001b[0mmin_el\u001b[0m \u001b[1;33m=\u001b[0m \u001b[0mnp\u001b[0m\u001b[1;33m.\u001b[0m\u001b[0mmin\u001b[0m\u001b[1;33m(\u001b[0m\u001b[0mx\u001b[0m\u001b[1;33m)\u001b[0m\u001b[1;33m\u001b[0m\u001b[0m\n\u001b[0m\u001b[0;32m     67\u001b[0m     \u001b[0mmax_el\u001b[0m \u001b[1;33m=\u001b[0m \u001b[0mnp\u001b[0m\u001b[1;33m.\u001b[0m\u001b[0mmax\u001b[0m\u001b[1;33m(\u001b[0m\u001b[0mx\u001b[0m\u001b[1;33m)\u001b[0m\u001b[1;33m\u001b[0m\u001b[0m\n\u001b[0;32m     68\u001b[0m     \u001b[0my\u001b[0m \u001b[1;33m=\u001b[0m \u001b[0mscipy\u001b[0m\u001b[1;33m.\u001b[0m\u001b[0mmisc\u001b[0m\u001b[1;33m.\u001b[0m\u001b[0mimresize\u001b[0m\u001b[1;33m(\u001b[0m\u001b[0mx\u001b[0m\u001b[1;33m,\u001b[0m \u001b[0mnew_size\u001b[0m\u001b[1;33m,\u001b[0m \u001b[0mmode\u001b[0m\u001b[1;33m=\u001b[0m\u001b[1;34m'L'\u001b[0m\u001b[1;33m,\u001b[0m \u001b[0minterp\u001b[0m\u001b[1;33m=\u001b[0m\u001b[1;34m'nearest'\u001b[0m\u001b[1;33m)\u001b[0m\u001b[1;33m\u001b[0m\u001b[0m\n",
      "\u001b[1;32m~\\Anaconda3\\lib\\site-packages\\numpy\\core\\fromnumeric.py\u001b[0m in \u001b[0;36mamin\u001b[1;34m(a, axis, out, keepdims)\u001b[0m\n\u001b[0;32m   2415\u001b[0m             \u001b[1;32mpass\u001b[0m\u001b[1;33m\u001b[0m\u001b[0m\n\u001b[0;32m   2416\u001b[0m         \u001b[1;32melse\u001b[0m\u001b[1;33m:\u001b[0m\u001b[1;33m\u001b[0m\u001b[0m\n\u001b[1;32m-> 2417\u001b[1;33m             \u001b[1;32mreturn\u001b[0m \u001b[0mamin\u001b[0m\u001b[1;33m(\u001b[0m\u001b[0maxis\u001b[0m\u001b[1;33m=\u001b[0m\u001b[0maxis\u001b[0m\u001b[1;33m,\u001b[0m \u001b[0mout\u001b[0m\u001b[1;33m=\u001b[0m\u001b[0mout\u001b[0m\u001b[1;33m,\u001b[0m \u001b[1;33m**\u001b[0m\u001b[0mkwargs\u001b[0m\u001b[1;33m)\u001b[0m\u001b[1;33m\u001b[0m\u001b[0m\n\u001b[0m\u001b[0;32m   2418\u001b[0m \u001b[1;33m\u001b[0m\u001b[0m\n\u001b[0;32m   2419\u001b[0m     return _methods._amin(a, axis=axis,\n",
      "\u001b[1;31mTypeError\u001b[0m: min() missing 1 required positional arguments: \"dim\""
     ]
    }
   ],
   "source": [
    "gameoflife_2_gif(100,100)"
   ]
  },
  {
   "cell_type": "code",
   "execution_count": null,
   "metadata": {},
   "outputs": [],
   "source": []
  },
  {
   "cell_type": "code",
   "execution_count": null,
   "metadata": {},
   "outputs": [],
   "source": []
  },
  {
   "cell_type": "code",
   "execution_count": null,
   "metadata": {},
   "outputs": [],
   "source": []
  }
 ],
 "metadata": {
  "kernelspec": {
   "display_name": "Python 3",
   "language": "python",
   "name": "python3"
  },
  "language_info": {
   "codemirror_mode": {
    "name": "ipython",
    "version": 3
   },
   "file_extension": ".py",
   "mimetype": "text/x-python",
   "name": "python",
   "nbconvert_exporter": "python",
   "pygments_lexer": "ipython3",
   "version": "3.6.4"
  }
 },
 "nbformat": 4,
 "nbformat_minor": 2
}
